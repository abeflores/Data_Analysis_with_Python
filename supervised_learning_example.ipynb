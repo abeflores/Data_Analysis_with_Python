{
 "cells": [
  {
   "cell_type": "code",
   "execution_count": 2,
   "metadata": {},
   "outputs": [
    {
     "name": "stdout",
     "output_type": "stream",
     "text": [
      "La Precisión del modelo es:  1.0\n"
     ]
    }
   ],
   "source": [
    "import numpy as np\n",
    "from sklearn.datasets import load_iris\n",
    "from sklearn.model_selection import train_test_split\n",
    "from sklearn.naive_bayes import GaussianNB\n",
    "\n",
    "# Primero debemos cargar los datos de nuestro dataset (iris)\n",
    "iris_data = load_iris()\n",
    "\n",
    "# Segundo paso dividir estos datos en sets de entrenamiento y prueba\n",
    "X_train, X_test, y_train, y_test = train_test_split(\n",
    "    iris_data.data, iris_data.target, random_state=0)\n",
    "\n",
    "# Crear un modelo Naive Bayes\n",
    "model = GaussianNB()\n",
    "\n",
    "# Ajustar el modelo a los datos de entrenamiento\n",
    "model.fit(X_train, y_train)\n",
    "\n",
    "# Usar el modelo para predecir las etiquetas de los datos de prueba\n",
    "y_pred = model.predict(X_test)\n",
    "\n",
    "# Calcular la precisión del modelo \n",
    "accuracy = np.mean(y_pred == y_test)\n",
    "\n",
    "print('La Precisión del modelo es: ', accuracy)"
   ]
  }
 ],
 "metadata": {
  "kernelspec": {
   "display_name": "Python 3",
   "language": "python",
   "name": "python3"
  },
  "language_info": {
   "codemirror_mode": {
    "name": "ipython",
    "version": 3
   },
   "file_extension": ".py",
   "mimetype": "text/x-python",
   "name": "python",
   "nbconvert_exporter": "python",
   "pygments_lexer": "ipython3",
   "version": "3.8.10"
  },
  "orig_nbformat": 4
 },
 "nbformat": 4,
 "nbformat_minor": 2
}
