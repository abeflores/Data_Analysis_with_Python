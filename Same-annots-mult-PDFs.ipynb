{
 "cells": [
  {
   "cell_type": "code",
   "execution_count": 2,
   "metadata": {},
   "outputs": [],
   "source": [
    "import pandas as pd\n",
    "import PyPDF2\n",
    "import fitz\n",
    "from io import StringIO"
   ]
  },
  {
   "cell_type": "code",
   "execution_count": 8,
   "metadata": {},
   "outputs": [
    {
     "name": "stdout",
     "output_type": "stream",
     "text": [
      "[76.98999786376953, 155.42999267578125, 223.1999969482422, 172.25]\n",
      "[75.86000061035156, 179.21002197265625, 159.30999755859375, 197.32000732421875]\n",
      "[481.010009765625, 156.8900146484375, 551.6900024414062, 174.3499755859375]\n",
      "[478.75, 189.719970703125, 535.030029296875, 208.32000732421875]\n"
     ]
    }
   ],
   "source": [
    "# This is the script to copy the rectangles of annotations of a PDF document and apply to another.\n",
    "\n",
    "# We first open the document and create a list with the specific number of rectangles we have, in this case 4\n",
    "# Then we add all coordinates of the rectangles to the annotations of the document.\n",
    "\n",
    "doc = fitz.open('document_with_annotations.pdf')\n",
    "\n",
    "rect_lists = [[] for i in range(4)] \n",
    "\n",
    "for page in doc:\n",
    "    annots = page.annots()\n",
    "    for i, annot in enumerate(annots):\n",
    "        rects = annot.rect\n",
    "        for rect in rects:\n",
    "            rect_lists[i].append(rect)\n",
    "\n",
    "for rect_list in rect_lists:\n",
    "    print(rect_list)\n"
   ]
  },
  {
   "cell_type": "code",
   "execution_count": 9,
   "metadata": {},
   "outputs": [],
   "source": [
    "# Open the document where we want to apply the annotations\n",
    "\n",
    "doc2 = fitz.open('POL_150203067000_lastpage.pdf')\n",
    "page = doc2[0]\n",
    "\n",
    "# Loop through the rect_lists and apply them to the document\n",
    "\n",
    "for rect_list in rect_lists:    \n",
    "    page.add_rect_annot(rect_list)\n",
    "\n",
    "# Save the document\n",
    "doc2.save('another_document_with_annotations.pdf')"
   ]
  },
  {
   "cell_type": "code",
   "execution_count": 12,
   "metadata": {},
   "outputs": [
    {
     "name": "stdout",
     "output_type": "stream",
     "text": [
      "[76.98999786376953, 155.42999267578125, 223.1999969482422, 172.25]\n",
      "[75.86000061035156, 179.21002197265625, 159.30999755859375, 197.32000732421875]\n",
      "[481.010009765625, 156.8900146484375, 551.6900024414062, 174.3499755859375]\n",
      "[478.75, 189.719970703125, 535.030029296875, 208.32000732421875]\n"
     ]
    }
   ],
   "source": [
    "# Finally, we validate that all the rectangles of annotations are on the new document.\n",
    "\n",
    "doc = fitz.open('another_document_with_annotations.pdf')\n",
    "\n",
    "rect_lists = [[] for i in range(4)] \n",
    "\n",
    "for page in doc:\n",
    "    annots = page.annots()\n",
    "    for i, annot in enumerate(annots):\n",
    "        rects = annot.rect\n",
    "        for rect in rects:\n",
    "            rect_lists[i].append(rect)\n",
    "\n",
    "for rect_list in rect_lists:\n",
    "    print(rect_list)"
   ]
  }
 ],
 "metadata": {
  "kernelspec": {
   "display_name": "Python 3",
   "language": "python",
   "name": "python3"
  },
  "language_info": {
   "codemirror_mode": {
    "name": "ipython",
    "version": 3
   },
   "file_extension": ".py",
   "mimetype": "text/x-python",
   "name": "python",
   "nbconvert_exporter": "python",
   "pygments_lexer": "ipython3",
   "version": "3.8.10"
  },
  "orig_nbformat": 4
 },
 "nbformat": 4,
 "nbformat_minor": 2
}
