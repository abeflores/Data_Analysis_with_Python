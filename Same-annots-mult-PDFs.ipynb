{
 "cells": [
  {
   "cell_type": "code",
   "execution_count": 9,
   "metadata": {},
   "outputs": [],
   "source": [
    "import pandas as pd\n",
    "import PyPDF2\n",
    "import fitz\n",
    "from io import StringIO"
   ]
  },
  {
   "cell_type": "code",
   "execution_count": 2,
   "metadata": {},
   "outputs": [],
   "source": [
    "pdf_file = open('POL140298453100-lastpage_annots.pdf', 'rb')\n",
    "pdf_reader = PyPDF2.PdfReader(pdf_file)"
   ]
  },
  {
   "cell_type": "code",
   "execution_count": 3,
   "metadata": {},
   "outputs": [],
   "source": [
    "page = pdf_reader.pages[0]"
   ]
  },
  {
   "cell_type": "code",
   "execution_count": 4,
   "metadata": {},
   "outputs": [
    {
     "ename": "AttributeError",
     "evalue": "'PageObject' object has no attribute 'getAnnotations'",
     "output_type": "error",
     "traceback": [
      "\u001b[1;31m---------------------------------------------------------------------------\u001b[0m",
      "\u001b[1;31mAttributeError\u001b[0m                            Traceback (most recent call last)",
      "\u001b[1;32mc:\\Users\\abela\\Documents\\MACHINE_LEARNING_EDUCATION\\FREE CODE CAMP\\Data-Analysis-with-Python\\Same-annots-mult-PDFs.ipynb Cell 4\u001b[0m in \u001b[0;36m<cell line: 1>\u001b[1;34m()\u001b[0m\n\u001b[1;32m----> <a href='vscode-notebook-cell:/c%3A/Users/abela/Documents/MACHINE_LEARNING_EDUCATION/FREE%20CODE%20CAMP/Data-Analysis-with-Python/Same-annots-mult-PDFs.ipynb#W3sZmlsZQ%3D%3D?line=0'>1</a>\u001b[0m annotations \u001b[39m=\u001b[39m page\u001b[39m.\u001b[39;49mgetAnnotations()\n",
      "\u001b[1;31mAttributeError\u001b[0m: 'PageObject' object has no attribute 'getAnnotations'"
     ]
    }
   ],
   "source": [
    "annotations = page.getAnnotations()"
   ]
  },
  {
   "cell_type": "code",
   "execution_count": 18,
   "metadata": {},
   "outputs": [],
   "source": [
    "doc = fitz.open('POL140298453100-lastpage_annots.pdf')\n",
    "pageone = doc[0]\n",
    "rec = pageone.first_annot.rect"
   ]
  },
  {
   "cell_type": "code",
   "execution_count": 66,
   "metadata": {},
   "outputs": [
    {
     "name": "stdout",
     "output_type": "stream",
     "text": [
      "76.98999786376953\n",
      "155.42999267578125\n",
      "223.1999969482422\n",
      "172.25\n",
      "75.86000061035156\n",
      "179.21002197265625\n",
      "159.30999755859375\n",
      "197.32000732421875\n",
      "481.010009765625\n",
      "156.8900146484375\n",
      "551.6900024414062\n",
      "174.3499755859375\n",
      "478.75\n",
      "189.719970703125\n",
      "535.030029296875\n",
      "208.32000732421875\n"
     ]
    }
   ],
   "source": [
    "doc = fitz.open('POL140298453100-lastpage_annots.pdf')\n",
    "\n",
    "for page in doc:\n",
    "    annots = page.annots()\n",
    "    for annot in annots:\n",
    "        rects = annot.rect\n",
    "        for rect in rects:\n",
    "            print(rect)\n"
   ]
  },
  {
   "cell_type": "code",
   "execution_count": 67,
   "metadata": {},
   "outputs": [
    {
     "name": "stdout",
     "output_type": "stream",
     "text": [
      "[76.98999786376953, 155.42999267578125, 223.1999969482422, 172.25]\n",
      "[75.86000061035156, 179.21002197265625, 159.30999755859375, 197.32000732421875]\n",
      "[481.010009765625, 156.8900146484375, 551.6900024414062, 174.3499755859375]\n",
      "[478.75, 189.719970703125, 535.030029296875, 208.32000732421875]\n"
     ]
    }
   ],
   "source": [
    "doc = fitz.open('POL140298453100-lastpage_annots.pdf')\n",
    "rect_lists = [[] for i in range(4)] \n",
    "for page in doc:\n",
    "    annots = page.annots()\n",
    "    for i, annot in enumerate(annots):\n",
    "        rects = annot.rect\n",
    "        for rect in rects:\n",
    "            rect_lists[i].append(rect)\n",
    "\n",
    "for rect_list in rect_lists:\n",
    "    print(rect_list)"
   ]
  },
  {
   "cell_type": "code",
   "execution_count": 56,
   "metadata": {},
   "outputs": [
    {
     "name": "stdout",
     "output_type": "stream",
     "text": [
      "76.98999786376953\n",
      "155.42999267578125\n",
      "223.1999969482422\n",
      "172.25\n"
     ]
    }
   ],
   "source": [
    "doc = fitz.open('POL140298453100-lastpage_annots.pdf')\n",
    "page = doc[0]\n",
    "rects = page.first_annot.rect\n",
    "\n",
    "for rect in rects:\n",
    "    print(rect)\n"
   ]
  }
 ],
 "metadata": {
  "kernelspec": {
   "display_name": "Python 3",
   "language": "python",
   "name": "python3"
  },
  "language_info": {
   "codemirror_mode": {
    "name": "ipython",
    "version": 3
   },
   "file_extension": ".py",
   "mimetype": "text/x-python",
   "name": "python",
   "nbconvert_exporter": "python",
   "pygments_lexer": "ipython3",
   "version": "3.8.10"
  },
  "orig_nbformat": 4
 },
 "nbformat": 4,
 "nbformat_minor": 2
}
