{
 "cells": [
  {
   "cell_type": "markdown",
   "metadata": {},
   "source": [
    "![](mean_var_std_1.jpg)\n"
   ]
  },
  {
   "cell_type": "markdown",
   "metadata": {},
   "source": [
    "![](mean_var_std_2.jpg)"
   ]
  },
  {
   "cell_type": "code",
   "execution_count": 18,
   "metadata": {},
   "outputs": [],
   "source": [
    "import numpy as np\n",
    "\n",
    "def calculate(list):\n",
    "    \n",
    "    try:\n",
    "        len(list) >= 9\n",
    "\n",
    "        list = np.array(list).reshape(3,3)\n",
    "        calculations = {'mean': [list.mean(axis=0).tolist(), list.mean(axis=1).tolist(), list.mean()],\n",
    "                        'variance': [list.var(axis=0).tolist(), list.var(axis=1).tolist(), list.var()],\n",
    "                        'standard deviation': [list.std(axis=0).tolist(), list.std(axis=1).tolist(), list.std()],\n",
    "                        'max': [list.max(axis=0).tolist(), list.max(axis=1).tolist(), list.max()],\n",
    "                        'min': [list.min(axis=0).tolist(), list.min(axis=1).tolist(), list.min()],\n",
    "                        'sum': [list.sum(axis=0).tolist(), list.sum(axis=1).tolist(), list.sum()]\n",
    "                            }\n",
    "\n",
    "    except ValueError as e:\n",
    "            raise ValueError(\"List must contain nine numbers.\") from e\n",
    "\n",
    "                      \n",
    "    return calculations"
   ]
  },
  {
   "cell_type": "code",
   "execution_count": 19,
   "metadata": {},
   "outputs": [
    {
     "ename": "ValueError",
     "evalue": "List must contain nine numbers.",
     "output_type": "error",
     "traceback": [
      "\u001b[1;31m---------------------------------------------------------------------------\u001b[0m",
      "\u001b[1;31mValueError\u001b[0m                                Traceback (most recent call last)",
      "\u001b[1;32mc:\\Users\\abela\\Documents\\MACHINE_LEARNING_EDUCATION\\FREE CODE CAMP\\Data-Analysis-with-Python\\mean_var_std.ipynb Cell 4\u001b[0m in \u001b[0;36mcalculate\u001b[1;34m(list)\u001b[0m\n\u001b[0;32m      <a href='vscode-notebook-cell:/c%3A/Users/abela/Documents/MACHINE_LEARNING_EDUCATION/FREE%20CODE%20CAMP/Data-Analysis-with-Python/mean_var_std.ipynb#W3sZmlsZQ%3D%3D?line=5'>6</a>\u001b[0m \u001b[39mlen\u001b[39m(\u001b[39mlist\u001b[39m) \u001b[39m>\u001b[39m\u001b[39m=\u001b[39m \u001b[39m9\u001b[39m\n\u001b[1;32m----> <a href='vscode-notebook-cell:/c%3A/Users/abela/Documents/MACHINE_LEARNING_EDUCATION/FREE%20CODE%20CAMP/Data-Analysis-with-Python/mean_var_std.ipynb#W3sZmlsZQ%3D%3D?line=7'>8</a>\u001b[0m \u001b[39mlist\u001b[39m \u001b[39m=\u001b[39m np\u001b[39m.\u001b[39;49marray(\u001b[39mlist\u001b[39;49m)\u001b[39m.\u001b[39;49mreshape(\u001b[39m3\u001b[39;49m,\u001b[39m3\u001b[39;49m)\n\u001b[0;32m      <a href='vscode-notebook-cell:/c%3A/Users/abela/Documents/MACHINE_LEARNING_EDUCATION/FREE%20CODE%20CAMP/Data-Analysis-with-Python/mean_var_std.ipynb#W3sZmlsZQ%3D%3D?line=8'>9</a>\u001b[0m calculations \u001b[39m=\u001b[39m {\u001b[39m'\u001b[39m\u001b[39mmean\u001b[39m\u001b[39m'\u001b[39m: [\u001b[39mlist\u001b[39m\u001b[39m.\u001b[39mmean(axis\u001b[39m=\u001b[39m\u001b[39m0\u001b[39m)\u001b[39m.\u001b[39mtolist(), \u001b[39mlist\u001b[39m\u001b[39m.\u001b[39mmean(axis\u001b[39m=\u001b[39m\u001b[39m1\u001b[39m)\u001b[39m.\u001b[39mtolist(), \u001b[39mlist\u001b[39m\u001b[39m.\u001b[39mmean()],\n\u001b[0;32m     <a href='vscode-notebook-cell:/c%3A/Users/abela/Documents/MACHINE_LEARNING_EDUCATION/FREE%20CODE%20CAMP/Data-Analysis-with-Python/mean_var_std.ipynb#W3sZmlsZQ%3D%3D?line=9'>10</a>\u001b[0m                 \u001b[39m'\u001b[39m\u001b[39mvariance\u001b[39m\u001b[39m'\u001b[39m: [\u001b[39mlist\u001b[39m\u001b[39m.\u001b[39mvar(axis\u001b[39m=\u001b[39m\u001b[39m0\u001b[39m)\u001b[39m.\u001b[39mtolist(), \u001b[39mlist\u001b[39m\u001b[39m.\u001b[39mvar(axis\u001b[39m=\u001b[39m\u001b[39m1\u001b[39m)\u001b[39m.\u001b[39mtolist(), \u001b[39mlist\u001b[39m\u001b[39m.\u001b[39mvar()],\n\u001b[0;32m     <a href='vscode-notebook-cell:/c%3A/Users/abela/Documents/MACHINE_LEARNING_EDUCATION/FREE%20CODE%20CAMP/Data-Analysis-with-Python/mean_var_std.ipynb#W3sZmlsZQ%3D%3D?line=10'>11</a>\u001b[0m                 \u001b[39m'\u001b[39m\u001b[39mstandard deviation\u001b[39m\u001b[39m'\u001b[39m: [\u001b[39mlist\u001b[39m\u001b[39m.\u001b[39mstd(axis\u001b[39m=\u001b[39m\u001b[39m0\u001b[39m)\u001b[39m.\u001b[39mtolist(), \u001b[39mlist\u001b[39m\u001b[39m.\u001b[39mstd(axis\u001b[39m=\u001b[39m\u001b[39m1\u001b[39m)\u001b[39m.\u001b[39mtolist(), \u001b[39mlist\u001b[39m\u001b[39m.\u001b[39mstd()],\n\u001b[1;32m   (...)\u001b[0m\n\u001b[0;32m     <a href='vscode-notebook-cell:/c%3A/Users/abela/Documents/MACHINE_LEARNING_EDUCATION/FREE%20CODE%20CAMP/Data-Analysis-with-Python/mean_var_std.ipynb#W3sZmlsZQ%3D%3D?line=13'>14</a>\u001b[0m                 \u001b[39m'\u001b[39m\u001b[39msum\u001b[39m\u001b[39m'\u001b[39m: [\u001b[39mlist\u001b[39m\u001b[39m.\u001b[39msum(axis\u001b[39m=\u001b[39m\u001b[39m0\u001b[39m)\u001b[39m.\u001b[39mtolist(), \u001b[39mlist\u001b[39m\u001b[39m.\u001b[39msum(axis\u001b[39m=\u001b[39m\u001b[39m1\u001b[39m)\u001b[39m.\u001b[39mtolist(), \u001b[39mlist\u001b[39m\u001b[39m.\u001b[39msum()]\n\u001b[0;32m     <a href='vscode-notebook-cell:/c%3A/Users/abela/Documents/MACHINE_LEARNING_EDUCATION/FREE%20CODE%20CAMP/Data-Analysis-with-Python/mean_var_std.ipynb#W3sZmlsZQ%3D%3D?line=14'>15</a>\u001b[0m                     }\n",
      "\u001b[1;31mValueError\u001b[0m: cannot reshape array of size 8 into shape (3,3)",
      "\nThe above exception was the direct cause of the following exception:\n",
      "\u001b[1;31mValueError\u001b[0m                                Traceback (most recent call last)",
      "\u001b[1;32mc:\\Users\\abela\\Documents\\MACHINE_LEARNING_EDUCATION\\FREE CODE CAMP\\Data-Analysis-with-Python\\mean_var_std.ipynb Cell 4\u001b[0m in \u001b[0;36m<cell line: 1>\u001b[1;34m()\u001b[0m\n\u001b[1;32m----> <a href='vscode-notebook-cell:/c%3A/Users/abela/Documents/MACHINE_LEARNING_EDUCATION/FREE%20CODE%20CAMP/Data-Analysis-with-Python/mean_var_std.ipynb#W3sZmlsZQ%3D%3D?line=0'>1</a>\u001b[0m calculate([\u001b[39m0\u001b[39;49m,\u001b[39m1\u001b[39;49m,\u001b[39m2\u001b[39;49m,\u001b[39m3\u001b[39;49m,\u001b[39m4\u001b[39;49m,\u001b[39m5\u001b[39;49m,\u001b[39m6\u001b[39;49m,\u001b[39m7\u001b[39;49m])\n",
      "\u001b[1;32mc:\\Users\\abela\\Documents\\MACHINE_LEARNING_EDUCATION\\FREE CODE CAMP\\Data-Analysis-with-Python\\mean_var_std.ipynb Cell 4\u001b[0m in \u001b[0;36mcalculate\u001b[1;34m(list)\u001b[0m\n\u001b[0;32m      <a href='vscode-notebook-cell:/c%3A/Users/abela/Documents/MACHINE_LEARNING_EDUCATION/FREE%20CODE%20CAMP/Data-Analysis-with-Python/mean_var_std.ipynb#W3sZmlsZQ%3D%3D?line=8'>9</a>\u001b[0m     calculations \u001b[39m=\u001b[39m {\u001b[39m'\u001b[39m\u001b[39mmean\u001b[39m\u001b[39m'\u001b[39m: [\u001b[39mlist\u001b[39m\u001b[39m.\u001b[39mmean(axis\u001b[39m=\u001b[39m\u001b[39m0\u001b[39m)\u001b[39m.\u001b[39mtolist(), \u001b[39mlist\u001b[39m\u001b[39m.\u001b[39mmean(axis\u001b[39m=\u001b[39m\u001b[39m1\u001b[39m)\u001b[39m.\u001b[39mtolist(), \u001b[39mlist\u001b[39m\u001b[39m.\u001b[39mmean()],\n\u001b[0;32m     <a href='vscode-notebook-cell:/c%3A/Users/abela/Documents/MACHINE_LEARNING_EDUCATION/FREE%20CODE%20CAMP/Data-Analysis-with-Python/mean_var_std.ipynb#W3sZmlsZQ%3D%3D?line=9'>10</a>\u001b[0m                     \u001b[39m'\u001b[39m\u001b[39mvariance\u001b[39m\u001b[39m'\u001b[39m: [\u001b[39mlist\u001b[39m\u001b[39m.\u001b[39mvar(axis\u001b[39m=\u001b[39m\u001b[39m0\u001b[39m)\u001b[39m.\u001b[39mtolist(), \u001b[39mlist\u001b[39m\u001b[39m.\u001b[39mvar(axis\u001b[39m=\u001b[39m\u001b[39m1\u001b[39m)\u001b[39m.\u001b[39mtolist(), \u001b[39mlist\u001b[39m\u001b[39m.\u001b[39mvar()],\n\u001b[0;32m     <a href='vscode-notebook-cell:/c%3A/Users/abela/Documents/MACHINE_LEARNING_EDUCATION/FREE%20CODE%20CAMP/Data-Analysis-with-Python/mean_var_std.ipynb#W3sZmlsZQ%3D%3D?line=10'>11</a>\u001b[0m                     \u001b[39m'\u001b[39m\u001b[39mstandard deviation\u001b[39m\u001b[39m'\u001b[39m: [\u001b[39mlist\u001b[39m\u001b[39m.\u001b[39mstd(axis\u001b[39m=\u001b[39m\u001b[39m0\u001b[39m)\u001b[39m.\u001b[39mtolist(), \u001b[39mlist\u001b[39m\u001b[39m.\u001b[39mstd(axis\u001b[39m=\u001b[39m\u001b[39m1\u001b[39m)\u001b[39m.\u001b[39mtolist(), \u001b[39mlist\u001b[39m\u001b[39m.\u001b[39mstd()],\n\u001b[1;32m   (...)\u001b[0m\n\u001b[0;32m     <a href='vscode-notebook-cell:/c%3A/Users/abela/Documents/MACHINE_LEARNING_EDUCATION/FREE%20CODE%20CAMP/Data-Analysis-with-Python/mean_var_std.ipynb#W3sZmlsZQ%3D%3D?line=13'>14</a>\u001b[0m                     \u001b[39m'\u001b[39m\u001b[39msum\u001b[39m\u001b[39m'\u001b[39m: [\u001b[39mlist\u001b[39m\u001b[39m.\u001b[39msum(axis\u001b[39m=\u001b[39m\u001b[39m0\u001b[39m)\u001b[39m.\u001b[39mtolist(), \u001b[39mlist\u001b[39m\u001b[39m.\u001b[39msum(axis\u001b[39m=\u001b[39m\u001b[39m1\u001b[39m)\u001b[39m.\u001b[39mtolist(), \u001b[39mlist\u001b[39m\u001b[39m.\u001b[39msum()]\n\u001b[0;32m     <a href='vscode-notebook-cell:/c%3A/Users/abela/Documents/MACHINE_LEARNING_EDUCATION/FREE%20CODE%20CAMP/Data-Analysis-with-Python/mean_var_std.ipynb#W3sZmlsZQ%3D%3D?line=14'>15</a>\u001b[0m                         }\n\u001b[0;32m     <a href='vscode-notebook-cell:/c%3A/Users/abela/Documents/MACHINE_LEARNING_EDUCATION/FREE%20CODE%20CAMP/Data-Analysis-with-Python/mean_var_std.ipynb#W3sZmlsZQ%3D%3D?line=16'>17</a>\u001b[0m \u001b[39mexcept\u001b[39;00m \u001b[39mValueError\u001b[39;00m \u001b[39mas\u001b[39;00m e:\n\u001b[1;32m---> <a href='vscode-notebook-cell:/c%3A/Users/abela/Documents/MACHINE_LEARNING_EDUCATION/FREE%20CODE%20CAMP/Data-Analysis-with-Python/mean_var_std.ipynb#W3sZmlsZQ%3D%3D?line=17'>18</a>\u001b[0m         \u001b[39mraise\u001b[39;00m \u001b[39mValueError\u001b[39;00m(\u001b[39m\"\u001b[39m\u001b[39mList must contain nine numbers.\u001b[39m\u001b[39m\"\u001b[39m) \u001b[39mfrom\u001b[39;00m \u001b[39me\u001b[39;00m\n\u001b[0;32m     <a href='vscode-notebook-cell:/c%3A/Users/abela/Documents/MACHINE_LEARNING_EDUCATION/FREE%20CODE%20CAMP/Data-Analysis-with-Python/mean_var_std.ipynb#W3sZmlsZQ%3D%3D?line=20'>21</a>\u001b[0m \u001b[39mreturn\u001b[39;00m calculations\n",
      "\u001b[1;31mValueError\u001b[0m: List must contain nine numbers."
     ]
    }
   ],
   "source": [
    "calculate([0,1,2,3,4,5,6,7])"
   ]
  }
 ],
 "metadata": {
  "kernelspec": {
   "display_name": "Python 3",
   "language": "python",
   "name": "python3"
  },
  "language_info": {
   "codemirror_mode": {
    "name": "ipython",
    "version": 3
   },
   "file_extension": ".py",
   "mimetype": "text/x-python",
   "name": "python",
   "nbconvert_exporter": "python",
   "pygments_lexer": "ipython3",
   "version": "3.8.10"
  },
  "orig_nbformat": 4,
  "vscode": {
   "interpreter": {
    "hash": "6e2fa745da440466e3b872fbbee5c44eb729455d9556ff33ae642dc28622471a"
   }
  }
 },
 "nbformat": 4,
 "nbformat_minor": 2
}
