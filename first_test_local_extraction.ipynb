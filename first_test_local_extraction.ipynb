{
 "cells": [
  {
   "cell_type": "code",
   "execution_count": 9,
   "metadata": {},
   "outputs": [],
   "source": [
    "import pandas as pd\n",
    "import PyPDF2\n",
    "import fitz\n",
    "from io import StringIO\n",
    "import shutil\n",
    "import os"
   ]
  },
  {
   "cell_type": "code",
   "execution_count": 10,
   "metadata": {},
   "outputs": [],
   "source": [
    "# This script takes the same annotations in one document of reference\n",
    "\n",
    "doc = fitz.open('document_with_annotations.pdf')\n",
    "\n",
    "rect_lists = [[] for i in range(4)] \n",
    "\n",
    "for page in doc:\n",
    "    annots = page.annots()\n",
    "    for i, annot in enumerate(annots):\n",
    "        rects = annot.rect\n",
    "        for rect in rects:\n",
    "            rect_lists[i].append(rect)\n",
    "\n",
    "#for rect_list in rect_lists:\n",
    "    #print(rect_list)\n"
   ]
  },
  {
   "cell_type": "code",
   "execution_count": 11,
   "metadata": {},
   "outputs": [],
   "source": [
    "# Here we iterate every document in one folder, draw the annotations and save with different name in another folder\n",
    "\n",
    "SOURCE_FOLDER = 'SOURCE_FOLDER'\n",
    "DEST_FOLDER = 'DEST_FOLDER'\n",
    "\n",
    "for filename in os.listdir(SOURCE_FOLDER):\n",
    "    doc2 = fitz.open(os.path.join(SOURCE_FOLDER, filename))\n",
    "    page = doc2[0]\n",
    "    for rect_list in rect_lists:    \n",
    "        page.add_rect_annot(rect_list)\n",
    "    doc2.save(os.path.join(DEST_FOLDER, 'CAPT_' + filename))\n",
    "    doc2.close()"
   ]
  },
  {
   "cell_type": "code",
   "execution_count": 12,
   "metadata": {},
   "outputs": [],
   "source": [
    "def make_text(words):\n",
    "    line_dict = {} \n",
    "    words.sort(key=lambda w: w[0])\n",
    "    for w in words:  \n",
    "        y1 = round(w[3], 1)  \n",
    "        word = w[4] \n",
    "        line = line_dict.get(y1, [])  \n",
    "        line.append(word)  \n",
    "        line_dict[y1] = line  \n",
    "    lines = list(line_dict.items())\n",
    "    lines.sort()  \n",
    "    return \"n\".join([\" \".join(line[1]) for line in lines])"
   ]
  },
  {
   "cell_type": "code",
   "execution_count": 22,
   "metadata": {},
   "outputs": [],
   "source": [
    "all_annots = []\n",
    "\n",
    "for filename in os.listdir(DEST_FOLDER):\n",
    "    doc2 = fitz.open(os.path.join(DEST_FOLDER, filename))\n",
    "    page = doc2[0]\n",
    "    for annot in page.annots():\n",
    "        if annot!=None:\n",
    "            rec = annot.rect\n",
    "            words = page.get_text(\"words\") \n",
    "            mywords = [w for w in words if fitz.Rect(w[:4]) in rec]\n",
    "            ann = make_text(mywords)\n",
    "            all_annots.append(ann)"
   ]
  },
  {
   "cell_type": "code",
   "execution_count": 23,
   "metadata": {},
   "outputs": [
    {
     "name": "stdout",
     "output_type": "stream",
     "text": [
      "['CORNELIO URREA MONTES', 'UEMC730326XXX', '150202988300', 'Contado', 'JOSE ALFONSO TOLEDO LICEA', 'TOLA840813XXX', '150203048000', 'Contado', 'PABLO ANTONIO HERRERA', 'HECP911101XXX', '150203224600', 'Contado']\n"
     ]
    }
   ],
   "source": [
    "print(all_annots)"
   ]
  },
  {
   "cell_type": "code",
   "execution_count": null,
   "metadata": {},
   "outputs": [],
   "source": []
  },
  {
   "cell_type": "code",
   "execution_count": 4,
   "metadata": {},
   "outputs": [],
   "source": [
    "# On this script we can eliminate the original files after saving into the new folder \n",
    "\n",
    "for root, dirs, files in os.walk(DEST_FOLDER):\n",
    "    for file in files:\n",
    "        if file.startswith(\"CAPT_\"):\n",
    "            path = os.path.join(root, file)\n",
    "            file_name = file.replace(\"CAPT_\", \"\")\n",
    "            if os.path.exists(os.path.join(SOURCE_FOLDER, file_name)):\n",
    "                os.remove(os.path.join(SOURCE_FOLDER, file_name))"
   ]
  }
 ],
 "metadata": {
  "kernelspec": {
   "display_name": "Python 3",
   "language": "python",
   "name": "python3"
  },
  "language_info": {
   "codemirror_mode": {
    "name": "ipython",
    "version": 3
   },
   "file_extension": ".py",
   "mimetype": "text/x-python",
   "name": "python",
   "nbconvert_exporter": "python",
   "pygments_lexer": "ipython3",
   "version": "3.8.10"
  },
  "orig_nbformat": 4
 },
 "nbformat": 4,
 "nbformat_minor": 2
}
