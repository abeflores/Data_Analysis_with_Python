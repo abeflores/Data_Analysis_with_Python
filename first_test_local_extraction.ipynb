{
 "cells": [
  {
   "cell_type": "code",
   "execution_count": 4,
   "metadata": {},
   "outputs": [],
   "source": [
    "import pandas as pd\n",
    "import PyPDF2\n",
    "import fitz\n",
    "from io import StringIO\n",
    "import shutil\n",
    "import os\n",
    "from pathlib import Path"
   ]
  },
  {
   "cell_type": "code",
   "execution_count": 5,
   "metadata": {},
   "outputs": [],
   "source": [
    "# This script takes the same annotations in one document of reference\n",
    "\n",
    "doc = fitz.open('document_with_annotations.pdf')\n",
    "\n",
    "rect_lists = [[] for i in range(4)] \n",
    "\n",
    "for page in doc:\n",
    "    annots = page.annots()\n",
    "    for i, annot in enumerate(annots):\n",
    "        rects = annot.rect\n",
    "        for rect in rects:\n",
    "            rect_lists[i].append(rect)\n",
    "\n",
    "#for rect_list in rect_lists:\n",
    "    #print(rect_list)\n"
   ]
  },
  {
   "cell_type": "code",
   "execution_count": 40,
   "metadata": {},
   "outputs": [],
   "source": [
    "# Here we iterate every document in one folder from Local, draw the annotations and save with different name in another folder\n",
    "\n",
    "SOURCE_FOLDER = 'SOURCE_FOLDER'\n",
    "DEST_FOLDER = 'DEST_FOLDER'\n",
    "\n",
    "for filename in os.listdir(SOURCE_FOLDER):\n",
    "    doc2 = fitz.open(os.path.join(SOURCE_FOLDER, filename))\n",
    "    page = doc2[0]\n",
    "    for rect_list in rect_lists:    \n",
    "        page.add_rect_annot(rect_list)\n",
    "    doc2.save(os.path.join(DEST_FOLDER, 'CAPT_' + filename))\n",
    "    doc2.close()\n"
   ]
  },
  {
   "cell_type": "code",
   "execution_count": 9,
   "metadata": {},
   "outputs": [
    {
     "ename": "OSError",
     "evalue": "[WinError 123] El nombre de archivo, el nombre de directorio o la sintaxis de la etiqueta del volumen no son correctos: 'https:\\\\onedrive.live.com\\\\?id=51DA451495FD6C4%2128039&cid=051DA451495FD6C4\\\\SOURCE_FOLDER'",
     "output_type": "error",
     "traceback": [
      "\u001b[1;31m---------------------------------------------------------------------------\u001b[0m",
      "\u001b[1;31mOSError\u001b[0m                                   Traceback (most recent call last)",
      "\u001b[1;32mc:\\Users\\abela\\Documents\\MACHINE_LEARNING_EDUCATION\\FREE CODE CAMP\\Data-Analysis-with-Python\\first_test_local_extraction.ipynb Cell 4\u001b[0m in \u001b[0;36m<cell line: 11>\u001b[1;34m()\u001b[0m\n\u001b[0;32m      <a href='vscode-notebook-cell:/c%3A/Users/abela/Documents/MACHINE_LEARNING_EDUCATION/FREE%20CODE%20CAMP/Data-Analysis-with-Python/first_test_local_extraction.ipynb#X13sZmlsZQ%3D%3D?line=7'>8</a>\u001b[0m DEST_FOLDER \u001b[39m=\u001b[39m onedrive_directory_path \u001b[39m/\u001b[39m \u001b[39m'\u001b[39m\u001b[39mDEST_FOLDER\u001b[39m\u001b[39m'\u001b[39m\n\u001b[0;32m     <a href='vscode-notebook-cell:/c%3A/Users/abela/Documents/MACHINE_LEARNING_EDUCATION/FREE%20CODE%20CAMP/Data-Analysis-with-Python/first_test_local_extraction.ipynb#X13sZmlsZQ%3D%3D?line=9'>10</a>\u001b[0m \u001b[39m# List all files in the source folder\u001b[39;00m\n\u001b[1;32m---> <a href='vscode-notebook-cell:/c%3A/Users/abela/Documents/MACHINE_LEARNING_EDUCATION/FREE%20CODE%20CAMP/Data-Analysis-with-Python/first_test_local_extraction.ipynb#X13sZmlsZQ%3D%3D?line=10'>11</a>\u001b[0m files_in_source \u001b[39m=\u001b[39m os\u001b[39m.\u001b[39;49mlistdir(SOURCE_FOLDER)\n\u001b[0;32m     <a href='vscode-notebook-cell:/c%3A/Users/abela/Documents/MACHINE_LEARNING_EDUCATION/FREE%20CODE%20CAMP/Data-Analysis-with-Python/first_test_local_extraction.ipynb#X13sZmlsZQ%3D%3D?line=12'>13</a>\u001b[0m \u001b[39mfor\u001b[39;00m filename \u001b[39min\u001b[39;00m files_in_source:\n\u001b[0;32m     <a href='vscode-notebook-cell:/c%3A/Users/abela/Documents/MACHINE_LEARNING_EDUCATION/FREE%20CODE%20CAMP/Data-Analysis-with-Python/first_test_local_extraction.ipynb#X13sZmlsZQ%3D%3D?line=13'>14</a>\u001b[0m     doc2 \u001b[39m=\u001b[39m fitz\u001b[39m.\u001b[39mopen(os\u001b[39m.\u001b[39mpath\u001b[39m.\u001b[39mjoin(SOURCE_FOLDER, filename))\n",
      "\u001b[1;31mOSError\u001b[0m: [WinError 123] El nombre de archivo, el nombre de directorio o la sintaxis de la etiqueta del volumen no son correctos: 'https:\\\\onedrive.live.com\\\\?id=51DA451495FD6C4%2128039&cid=051DA451495FD6C4\\\\SOURCE_FOLDER'"
     ]
    }
   ],
   "source": [
    "# Here we iterate every document in one folder from the Cloud, draw the annotations and save with different name in another folder\n",
    "\n",
    "# Replace the directory path according to your One Drive\n",
    "onedrive_directory_path = Path('https://onedrive.live.com/?id=51DA451495FD6C4%2128039&cid=051DA451495FD6C4')\n",
    "\n",
    "# Replace the source and destination folder paths\n",
    "SOURCE_FOLDER = onedrive_directory_path / 'SOURCE_FOLDER'\n",
    "DEST_FOLDER = onedrive_directory_path / 'DEST_FOLDER'\n",
    "\n",
    "# List all files in the source folder\n",
    "files_in_source = os.listdir(SOURCE_FOLDER)\n",
    "\n",
    "for filename in files_in_source:\n",
    "    doc2 = fitz.open(os.path.join(SOURCE_FOLDER, filename))\n",
    "    page = doc2[0]\n",
    "    for rect_list in rect_lists:    \n",
    "        page.add_rect_annot(rect_list)\n",
    "    doc2.save(os.path.join(DEST_FOLDER, 'CAPT_' + filename))\n",
    "    doc2.close()"
   ]
  },
  {
   "cell_type": "code",
   "execution_count": 41,
   "metadata": {},
   "outputs": [],
   "source": [
    "def make_text(words):\n",
    "    line_dict = {} \n",
    "    words.sort(key=lambda w: w[0])\n",
    "    for w in words:  \n",
    "        y1 = round(w[3], 1)  \n",
    "        word = w[4] \n",
    "        line = line_dict.get(y1, [])  \n",
    "        line.append(word)  \n",
    "        line_dict[y1] = line  \n",
    "    lines = list(line_dict.items())\n",
    "    lines.sort()  \n",
    "    return \"n\".join([\" \".join(line[1]) for line in lines])"
   ]
  },
  {
   "cell_type": "code",
   "execution_count": 42,
   "metadata": {},
   "outputs": [],
   "source": [
    "pol_dic = {'NO.POLIZA': [],\n",
    "           'NOMBRE': [], \n",
    "           'RFC': [], \n",
    "           'FORMA PAGO': []}\n",
    "\n",
    "for filename in os.listdir(DEST_FOLDER):\n",
    "    doc2 = fitz.open(os.path.join(DEST_FOLDER, filename))\n",
    "    page = doc2[0]\n",
    "    all_annots = []\n",
    "    for annot in page.annots():\n",
    "        if annot!=None:\n",
    "            rec = annot.rect\n",
    "            words = page.get_text(\"words\") \n",
    "            mywords = [w for w in words if fitz.Rect(w[:4]) in rec]\n",
    "            ann = make_text(mywords)\n",
    "            all_annots.append(ann)\n",
    "    pol_dic['NO.POLIZA'].append(all_annots[2])\n",
    "    pol_dic['NOMBRE'].append(all_annots[0])\n",
    "    pol_dic['RFC'].append(all_annots[1])\n",
    "    pol_dic['FORMA PAGO'].append(all_annots[3])\n"
   ]
  },
  {
   "cell_type": "code",
   "execution_count": 43,
   "metadata": {},
   "outputs": [
    {
     "data": {
      "text/plain": [
       "{'NO.POLIZA': ['150202988300',\n",
       "  '150203048000',\n",
       "  '150203224600',\n",
       "  '150203649700',\n",
       "  '150203760000'],\n",
       " 'NOMBRE': ['CORNELIO URREA MONTES',\n",
       "  'JOSE ALFONSO TOLEDO LICEA',\n",
       "  'PABLO ANTONIO HERRERA',\n",
       "  'HECTOR AVENA LOPEZ',\n",
       "  'VICTORIA EUGENIA DIAZ RUIZ'],\n",
       " 'RFC': ['UEMC730326XXX',\n",
       "  'TOLA840813XXX',\n",
       "  'HECP911101XXX',\n",
       "  'AELH750114XXX',\n",
       "  'DIRV540518000'],\n",
       " 'FORMA PAGO': ['Contado', 'Contado', 'Contado', 'Contado', 'Contado']}"
      ]
     },
     "execution_count": 43,
     "metadata": {},
     "output_type": "execute_result"
    }
   ],
   "source": [
    "pol_dic"
   ]
  },
  {
   "cell_type": "code",
   "execution_count": 44,
   "metadata": {},
   "outputs": [],
   "source": [
    "pol_data = pd.DataFrame.from_dict(pol_dic)\n"
   ]
  },
  {
   "cell_type": "code",
   "execution_count": 45,
   "metadata": {},
   "outputs": [
    {
     "data": {
      "text/html": [
       "<div>\n",
       "<style scoped>\n",
       "    .dataframe tbody tr th:only-of-type {\n",
       "        vertical-align: middle;\n",
       "    }\n",
       "\n",
       "    .dataframe tbody tr th {\n",
       "        vertical-align: top;\n",
       "    }\n",
       "\n",
       "    .dataframe thead th {\n",
       "        text-align: right;\n",
       "    }\n",
       "</style>\n",
       "<table border=\"1\" class=\"dataframe\">\n",
       "  <thead>\n",
       "    <tr style=\"text-align: right;\">\n",
       "      <th></th>\n",
       "      <th>NO.POLIZA</th>\n",
       "      <th>NOMBRE</th>\n",
       "      <th>RFC</th>\n",
       "      <th>FORMA PAGO</th>\n",
       "    </tr>\n",
       "  </thead>\n",
       "  <tbody>\n",
       "    <tr>\n",
       "      <th>0</th>\n",
       "      <td>150202988300</td>\n",
       "      <td>CORNELIO URREA MONTES</td>\n",
       "      <td>UEMC730326XXX</td>\n",
       "      <td>Contado</td>\n",
       "    </tr>\n",
       "    <tr>\n",
       "      <th>1</th>\n",
       "      <td>150203048000</td>\n",
       "      <td>JOSE ALFONSO TOLEDO LICEA</td>\n",
       "      <td>TOLA840813XXX</td>\n",
       "      <td>Contado</td>\n",
       "    </tr>\n",
       "    <tr>\n",
       "      <th>2</th>\n",
       "      <td>150203224600</td>\n",
       "      <td>PABLO ANTONIO HERRERA</td>\n",
       "      <td>HECP911101XXX</td>\n",
       "      <td>Contado</td>\n",
       "    </tr>\n",
       "    <tr>\n",
       "      <th>3</th>\n",
       "      <td>150203649700</td>\n",
       "      <td>HECTOR AVENA LOPEZ</td>\n",
       "      <td>AELH750114XXX</td>\n",
       "      <td>Contado</td>\n",
       "    </tr>\n",
       "    <tr>\n",
       "      <th>4</th>\n",
       "      <td>150203760000</td>\n",
       "      <td>VICTORIA EUGENIA DIAZ RUIZ</td>\n",
       "      <td>DIRV540518000</td>\n",
       "      <td>Contado</td>\n",
       "    </tr>\n",
       "  </tbody>\n",
       "</table>\n",
       "</div>"
      ],
      "text/plain": [
       "      NO.POLIZA                      NOMBRE            RFC FORMA PAGO\n",
       "0  150202988300       CORNELIO URREA MONTES  UEMC730326XXX    Contado\n",
       "1  150203048000   JOSE ALFONSO TOLEDO LICEA  TOLA840813XXX    Contado\n",
       "2  150203224600       PABLO ANTONIO HERRERA  HECP911101XXX    Contado\n",
       "3  150203649700          HECTOR AVENA LOPEZ  AELH750114XXX    Contado\n",
       "4  150203760000  VICTORIA EUGENIA DIAZ RUIZ  DIRV540518000    Contado"
      ]
     },
     "execution_count": 45,
     "metadata": {},
     "output_type": "execute_result"
    }
   ],
   "source": [
    "pol_data"
   ]
  },
  {
   "cell_type": "code",
   "execution_count": 46,
   "metadata": {},
   "outputs": [],
   "source": [
    "pol_data.to_excel('pol_final.xlsx', index=False)"
   ]
  },
  {
   "cell_type": "code",
   "execution_count": 19,
   "metadata": {},
   "outputs": [],
   "source": [
    "# On this script we can eliminate the original files after saving into the new folder \n",
    "\n",
    "for root, dirs, files in os.walk(DEST_FOLDER):\n",
    "    for file in files:\n",
    "        if file.startswith(\"CAPT_\"):\n",
    "            path = os.path.join(root, file)\n",
    "            file_name = file.replace(\"CAPT_\", \"\")\n",
    "            if os.path.exists(os.path.join(SOURCE_FOLDER, file_name)):\n",
    "                os.remove(os.path.join(SOURCE_FOLDER, file_name))"
   ]
  }
 ],
 "metadata": {
  "kernelspec": {
   "display_name": "Python 3",
   "language": "python",
   "name": "python3"
  },
  "language_info": {
   "codemirror_mode": {
    "name": "ipython",
    "version": 3
   },
   "file_extension": ".py",
   "mimetype": "text/x-python",
   "name": "python",
   "nbconvert_exporter": "python",
   "pygments_lexer": "ipython3",
   "version": "3.8.10"
  },
  "orig_nbformat": 4
 },
 "nbformat": 4,
 "nbformat_minor": 2
}
