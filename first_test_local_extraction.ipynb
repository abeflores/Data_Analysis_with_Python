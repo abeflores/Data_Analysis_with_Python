{
 "cells": [
  {
   "cell_type": "code",
   "execution_count": 1,
   "metadata": {},
   "outputs": [],
   "source": [
    "import pandas as pd\n",
    "import PyPDF2\n",
    "import fitz\n",
    "from io import StringIO\n",
    "import shutil\n",
    "import os"
   ]
  },
  {
   "cell_type": "code",
   "execution_count": 2,
   "metadata": {},
   "outputs": [],
   "source": [
    "# This script takes the same annotations in one document of reference\n",
    "\n",
    "doc = fitz.open('document_with_annotations.pdf')\n",
    "\n",
    "rect_lists = [[] for i in range(4)] \n",
    "\n",
    "for page in doc:\n",
    "    annots = page.annots()\n",
    "    for i, annot in enumerate(annots):\n",
    "        rects = annot.rect\n",
    "        for rect in rects:\n",
    "            rect_lists[i].append(rect)\n",
    "\n",
    "#for rect_list in rect_lists:\n",
    "    #print(rect_list)\n"
   ]
  },
  {
   "cell_type": "code",
   "execution_count": 3,
   "metadata": {},
   "outputs": [],
   "source": [
    "# Here we iterate every document in one folder, draw the annotations and save with different name in another folder\n",
    "\n",
    "SOURCE_FOLDER = 'SOURCE_FOLDER'\n",
    "DEST_FOLDER = 'DEST_FOLDER'\n",
    "\n",
    "for filename in os.listdir(SOURCE_FOLDER):\n",
    "    doc2 = fitz.open(os.path.join(SOURCE_FOLDER, filename))\n",
    "    page = doc2[0]\n",
    "    for rect_list in rect_lists:    \n",
    "        page.add_rect_annot(rect_list)\n",
    "    doc2.save(os.path.join(DEST_FOLDER, 'CAPT_' + filename))\n",
    "    doc2.close()"
   ]
  },
  {
   "cell_type": "code",
   "execution_count": 4,
   "metadata": {},
   "outputs": [],
   "source": [
    "\n",
    "for root, dirs, files in os.walk(DEST_FOLDER):\n",
    "    for file in files:\n",
    "        if file.startswith(\"CAPT_\"):\n",
    "            path = os.path.join(root, file)\n",
    "            file_name = file.replace(\"CAPT_\", \"\")\n",
    "            if os.path.exists(os.path.join(SOURCE_FOLDER, file_name)):\n",
    "                os.remove(os.path.join(SOURCE_FOLDER, file_name))"
   ]
  }
 ],
 "metadata": {
  "kernelspec": {
   "display_name": "Python 3",
   "language": "python",
   "name": "python3"
  },
  "language_info": {
   "codemirror_mode": {
    "name": "ipython",
    "version": 3
   },
   "file_extension": ".py",
   "mimetype": "text/x-python",
   "name": "python",
   "nbconvert_exporter": "python",
   "pygments_lexer": "ipython3",
   "version": "3.8.10"
  },
  "orig_nbformat": 4
 },
 "nbformat": 4,
 "nbformat_minor": 2
}
