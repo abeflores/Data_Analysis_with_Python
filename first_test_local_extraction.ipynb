{
 "cells": [
  {
   "cell_type": "code",
   "execution_count": 6,
   "metadata": {},
   "outputs": [],
   "source": [
    "import pandas as pd\n",
    "import PyPDF2\n",
    "import fitz\n",
    "from io import StringIO\n",
    "import shutil\n",
    "import os"
   ]
  },
  {
   "cell_type": "code",
   "execution_count": 5,
   "metadata": {},
   "outputs": [],
   "source": [
    "doc = fitz.open('document_with_annotations.pdf')\n",
    "\n",
    "rect_lists = [[] for i in range(4)] \n",
    "\n",
    "for page in doc:\n",
    "    annots = page.annots()\n",
    "    for i, annot in enumerate(annots):\n",
    "        rects = annot.rect\n",
    "        for rect in rects:\n",
    "            rect_lists[i].append(rect)\n",
    "\n",
    "#for rect_list in rect_lists:\n",
    "    #print(rect_list)\n"
   ]
  },
  {
   "cell_type": "code",
   "execution_count": 13,
   "metadata": {},
   "outputs": [],
   "source": [
    "SOURCE_FOLDER = 'SOURCE_FOLDER'\n",
    "DEST_FOLDER = 'DEST_FOLDER'\n",
    "\n",
    "for filename in os.listdir(SOURCE_FOLDER):\n",
    "    doc2 = fitz.open(os.path.join(SOURCE_FOLDER, filename))\n",
    "    page = doc2[0]\n",
    "    for rect_list in rect_lists:    \n",
    "        page.add_rect_annot(rect_list)\n",
    "    doc2.save(os.path.join(DEST_FOLDER, 'CAPT_' + filename))\n",
    "    doc2.close()"
   ]
  }
 ],
 "metadata": {
  "kernelspec": {
   "display_name": "Python 3",
   "language": "python",
   "name": "python3"
  },
  "language_info": {
   "codemirror_mode": {
    "name": "ipython",
    "version": 3
   },
   "file_extension": ".py",
   "mimetype": "text/x-python",
   "name": "python",
   "nbconvert_exporter": "python",
   "pygments_lexer": "ipython3",
   "version": "3.8.10"
  },
  "orig_nbformat": 4
 },
 "nbformat": 4,
 "nbformat_minor": 2
}
