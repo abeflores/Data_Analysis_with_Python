{
 "cells": [
  {
   "cell_type": "code",
   "execution_count": 1,
   "metadata": {},
   "outputs": [],
   "source": [
    "import pandas as pd\n",
    "import PyPDF2\n",
    "import fitz\n",
    "from io import StringIO"
   ]
  },
  {
   "cell_type": "code",
   "execution_count": 3,
   "metadata": {},
   "outputs": [],
   "source": [
    "# This script is to read all characthers on a specific page on a PDF and Export into an Excel File\n",
    "\n",
    "pdf_file = open('POL140298453100-lastpage_annots.pdf', 'rb')\n",
    "pdf_reader = PyPDF2.PdfReader(pdf_file)\n",
    "\n",
    "text = ''\n",
    "for page in range(len(pdf_reader.pages)):\n",
    "    text += pdf_reader.pages[0].extract_text()\n",
    "\n",
    "df = pd.read_csv(StringIO(text), sep='\\t', header=None)\n",
    "\n",
    "df.to_excel('output.xlsx', index=False, header=False)"
   ]
  },
  {
   "cell_type": "code",
   "execution_count": 5,
   "metadata": {},
   "outputs": [
    {
     "ename": "TypeError",
     "evalue": "'IndirectObject' object is not subscriptable",
     "output_type": "error",
     "traceback": [
      "\u001b[1;31m---------------------------------------------------------------------------\u001b[0m",
      "\u001b[1;31mTypeError\u001b[0m                                 Traceback (most recent call last)",
      "\u001b[1;32mc:\\Users\\abela\\Documents\\MACHINE_LEARNING_EDUCATION\\FREE CODE CAMP\\Data-Analysis-with-Python\\Data-extraction-from-PDF.ipynb Cell 3\u001b[0m in \u001b[0;36m<cell line: 4>\u001b[1;34m()\u001b[0m\n\u001b[0;32m     <a href='vscode-notebook-cell:/c%3A/Users/abela/Documents/MACHINE_LEARNING_EDUCATION/FREE%20CODE%20CAMP/Data-Analysis-with-Python/Data-extraction-from-PDF.ipynb#W2sZmlsZQ%3D%3D?line=11'>12</a>\u001b[0m \u001b[39mif\u001b[39;00m \u001b[39m'\u001b[39m\u001b[39m/Annots\u001b[39m\u001b[39m'\u001b[39m \u001b[39min\u001b[39;00m page:\n\u001b[0;32m     <a href='vscode-notebook-cell:/c%3A/Users/abela/Documents/MACHINE_LEARNING_EDUCATION/FREE%20CODE%20CAMP/Data-Analysis-with-Python/Data-extraction-from-PDF.ipynb#W2sZmlsZQ%3D%3D?line=12'>13</a>\u001b[0m     \u001b[39m# Loop through the annotations\u001b[39;00m\n\u001b[0;32m     <a href='vscode-notebook-cell:/c%3A/Users/abela/Documents/MACHINE_LEARNING_EDUCATION/FREE%20CODE%20CAMP/Data-Analysis-with-Python/Data-extraction-from-PDF.ipynb#W2sZmlsZQ%3D%3D?line=13'>14</a>\u001b[0m     \u001b[39mfor\u001b[39;00m annotation \u001b[39min\u001b[39;00m page[\u001b[39m'\u001b[39m\u001b[39m/Annots\u001b[39m\u001b[39m'\u001b[39m]:\n\u001b[0;32m     <a href='vscode-notebook-cell:/c%3A/Users/abela/Documents/MACHINE_LEARNING_EDUCATION/FREE%20CODE%20CAMP/Data-Analysis-with-Python/Data-extraction-from-PDF.ipynb#W2sZmlsZQ%3D%3D?line=14'>15</a>\u001b[0m         \u001b[39m# Check if the annotation is a rectangle\u001b[39;00m\n\u001b[1;32m---> <a href='vscode-notebook-cell:/c%3A/Users/abela/Documents/MACHINE_LEARNING_EDUCATION/FREE%20CODE%20CAMP/Data-Analysis-with-Python/Data-extraction-from-PDF.ipynb#W2sZmlsZQ%3D%3D?line=15'>16</a>\u001b[0m         \u001b[39mif\u001b[39;00m annotation[\u001b[39m'\u001b[39;49m\u001b[39m/Subtype\u001b[39;49m\u001b[39m'\u001b[39;49m] \u001b[39m==\u001b[39m \u001b[39m'\u001b[39m\u001b[39m/Square\u001b[39m\u001b[39m'\u001b[39m:\n\u001b[0;32m     <a href='vscode-notebook-cell:/c%3A/Users/abela/Documents/MACHINE_LEARNING_EDUCATION/FREE%20CODE%20CAMP/Data-Analysis-with-Python/Data-extraction-from-PDF.ipynb#W2sZmlsZQ%3D%3D?line=16'>17</a>\u001b[0m             \u001b[39mprint\u001b[39m(\u001b[39m'\u001b[39m\u001b[39mFound an annotation rectangle!\u001b[39m\u001b[39m'\u001b[39m)\n\u001b[0;32m     <a href='vscode-notebook-cell:/c%3A/Users/abela/Documents/MACHINE_LEARNING_EDUCATION/FREE%20CODE%20CAMP/Data-Analysis-with-Python/Data-extraction-from-PDF.ipynb#W2sZmlsZQ%3D%3D?line=17'>18</a>\u001b[0m             \u001b[39mbreak\u001b[39;00m\n",
      "\u001b[1;31mTypeError\u001b[0m: 'IndirectObject' object is not subscriptable"
     ]
    }
   ],
   "source": [
    "import PyPDF2\n",
    "\n",
    "# Open the PDF file\n",
    "with open('POL140298453100-lastpage_annots.pdf', 'rb') as file:\n",
    "    # Create a PDF reader object\n",
    "    pdf_reader = PyPDF2.PdfReader(file)\n",
    "\n",
    "    # Get the first page of the PDF\n",
    "    page = pdf_reader.pages[0]\n",
    "\n",
    "    # Check if the page has any annotations\n",
    "    if '/Annots' in page:\n",
    "        # Loop through the annotations\n",
    "        for annotation in page['/Annots']:\n",
    "            # Check if the annotation is a rectangle\n",
    "            if annotation['/Subtype'] == '/Square':\n",
    "                print('Found an annotation rectangle!')\n",
    "                break\n",
    "    else:\n",
    "        print('No annotations found.')\n"
   ]
  },
  {
   "cell_type": "code",
   "execution_count": 6,
   "metadata": {},
   "outputs": [],
   "source": [
    "doc = fitz.open('POL140298453100-lastpage_annots.pdf')\n",
    "pageone = doc[0]\n",
    "words = pageone.get_text(\"words\")"
   ]
  },
  {
   "cell_type": "code",
   "execution_count": 7,
   "metadata": {},
   "outputs": [],
   "source": [
    "def make_text(words):\n",
    "    line_dict = {} \n",
    "    words.sort(key=lambda w: w[0])\n",
    "    for w in words:  \n",
    "        y1 = round(w[3], 1)  \n",
    "        word = w[4] \n",
    "        line = line_dict.get(y1, [])  \n",
    "        line.append(word)  \n",
    "        line_dict[y1] = line  \n",
    "    lines = list(line_dict.items())\n",
    "    lines.sort()  \n",
    "    return \"n\".join([\" \".join(line[1]) for line in lines])"
   ]
  },
  {
   "cell_type": "code",
   "execution_count": 8,
   "metadata": {},
   "outputs": [],
   "source": [
    "first_annots = []\n",
    "rec = pageone.first_annot.rect\n",
    "\n",
    "#Information of words in first object is stored in mywords\n",
    "\n",
    "mywords = [w for w in words if fitz.Rect(w[:4]) in rec]\n",
    "ann = make_text(mywords)\n",
    "first_annots.append(ann)"
   ]
  },
  {
   "cell_type": "code",
   "execution_count": 9,
   "metadata": {},
   "outputs": [
    {
     "name": "stdout",
     "output_type": "stream",
     "text": [
      "Rect(76.98999786376953, 155.42999267578125, 223.1999969482422, 172.25)\n",
      "['LETICIA HERMINIA MUÑOZ PEÑA']\n"
     ]
    }
   ],
   "source": [
    "print(rec)\n",
    "print(first_annots)"
   ]
  },
  {
   "cell_type": "code",
   "execution_count": 17,
   "metadata": {},
   "outputs": [],
   "source": [
    "all_annots = []"
   ]
  },
  {
   "cell_type": "code",
   "execution_count": 20,
   "metadata": {},
   "outputs": [],
   "source": [
    "for annot in pageone.annots():\n",
    "    if annot!=None:\n",
    "        rec=annot.rect\n",
    "        mywords = [w for w in words if fitz.Rect(w[:4]) in rec]\n",
    "        ann= make_text(mywords)\n",
    "        all_annots.append(ann)"
   ]
  },
  {
   "cell_type": "code",
   "execution_count": 21,
   "metadata": {},
   "outputs": [
    {
     "name": "stdout",
     "output_type": "stream",
     "text": [
      "['LETICIA HERMINIA MUÑOZ PEÑA', 'MUPL470301XXX', '140298453100', 'Contado']\n"
     ]
    }
   ],
   "source": [
    "print(all_annots)"
   ]
  },
  {
   "cell_type": "code",
   "execution_count": 29,
   "metadata": {},
   "outputs": [],
   "source": [
    "pol_dic = {'NOMBRE': [all_annots[0]], \n",
    "           'RFC': [all_annots[1]], \n",
    "           'NO.POLIZA': [all_annots[2]], \n",
    "           'FORMA PAGO': [all_annots[3]]}"
   ]
  },
  {
   "cell_type": "code",
   "execution_count": 30,
   "metadata": {},
   "outputs": [
    {
     "data": {
      "text/plain": [
       "{'NOMBRE': ['LETICIA HERMINIA MUÑOZ PEÑA'],\n",
       " 'RFC': ['MUPL470301XXX'],\n",
       " 'NO.POLIZA': ['140298453100'],\n",
       " 'FORMA PAGO': ['Contado']}"
      ]
     },
     "execution_count": 30,
     "metadata": {},
     "output_type": "execute_result"
    }
   ],
   "source": [
    "pol_dic"
   ]
  },
  {
   "cell_type": "code",
   "execution_count": 31,
   "metadata": {},
   "outputs": [
    {
     "data": {
      "text/html": [
       "<div>\n",
       "<style scoped>\n",
       "    .dataframe tbody tr th:only-of-type {\n",
       "        vertical-align: middle;\n",
       "    }\n",
       "\n",
       "    .dataframe tbody tr th {\n",
       "        vertical-align: top;\n",
       "    }\n",
       "\n",
       "    .dataframe thead th {\n",
       "        text-align: right;\n",
       "    }\n",
       "</style>\n",
       "<table border=\"1\" class=\"dataframe\">\n",
       "  <thead>\n",
       "    <tr style=\"text-align: right;\">\n",
       "      <th></th>\n",
       "      <th>NOMBRE</th>\n",
       "      <th>RFC</th>\n",
       "      <th>NO.POLIZA</th>\n",
       "      <th>FORMA PAGO</th>\n",
       "    </tr>\n",
       "  </thead>\n",
       "  <tbody>\n",
       "    <tr>\n",
       "      <th>0</th>\n",
       "      <td>LETICIA HERMINIA MUÑOZ PEÑA</td>\n",
       "      <td>MUPL470301XXX</td>\n",
       "      <td>140298453100</td>\n",
       "      <td>Contado</td>\n",
       "    </tr>\n",
       "  </tbody>\n",
       "</table>\n",
       "</div>"
      ],
      "text/plain": [
       "                        NOMBRE            RFC     NO.POLIZA FORMA PAGO\n",
       "0  LETICIA HERMINIA MUÑOZ PEÑA  MUPL470301XXX  140298453100    Contado"
      ]
     },
     "execution_count": 31,
     "metadata": {},
     "output_type": "execute_result"
    }
   ],
   "source": [
    "pol_data = pd.DataFrame.from_dict(pol_dic)\n",
    "#pol_data.to_csv('pol_final.csv', index=False)\n",
    "pol_data\n"
   ]
  }
 ],
 "metadata": {
  "kernelspec": {
   "display_name": "Python 3",
   "language": "python",
   "name": "python3"
  },
  "language_info": {
   "codemirror_mode": {
    "name": "ipython",
    "version": 3
   },
   "file_extension": ".py",
   "mimetype": "text/x-python",
   "name": "python",
   "nbconvert_exporter": "python",
   "pygments_lexer": "ipython3",
   "version": "3.8.10"
  },
  "orig_nbformat": 4
 },
 "nbformat": 4,
 "nbformat_minor": 2
}
