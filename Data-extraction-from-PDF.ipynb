{
 "cells": [
  {
   "cell_type": "code",
   "execution_count": 1,
   "metadata": {},
   "outputs": [],
   "source": [
    "import pandas as pd\n",
    "import PyPDF2\n",
    "import fitz\n",
    "from io import StringIO"
   ]
  },
  {
   "cell_type": "code",
   "execution_count": 3,
   "metadata": {},
   "outputs": [],
   "source": [
    "# This script is to read all characthers on a specific page on a PDF and Export into an Excel File\n",
    "\n",
    "pdf_file = open('POL140298453100-lastpage_annots.pdf', 'rb')\n",
    "pdf_reader = PyPDF2.PdfReader(pdf_file)\n",
    "\n",
    "text = ''\n",
    "for page in range(len(pdf_reader.pages)):\n",
    "    text += pdf_reader.pages[0].extract_text()\n",
    "\n",
    "df = pd.read_csv(StringIO(text), sep='\\t', header=None)\n",
    "\n",
    "df.to_excel('output.xlsx', index=False, header=False)"
   ]
  },
  {
   "cell_type": "code",
   "execution_count": 2,
   "metadata": {},
   "outputs": [],
   "source": [
    "# This is the full script to extract the data of the PDF as a text\n",
    "# Then create a function to transform the text into words and print what is on the first rectangle of annotations.\n",
    "\n",
    "# First we open the document using Fitz, then select the specific page where the data we want to extract is in.\n",
    "# Then we get all the text that in the document using get_text\n",
    "\n",
    "doc = fitz.open('document_with_annotations.pdf')\n",
    "pageone = doc[0]\n",
    "words = pageone.get_text(\"words\")\n",
    "\n",
    "# This function below takes a list of words and sorts them based on their first character. \n",
    "# Then, it groups the words into lines based on their y-coordinate rounded to one decimal place. \n",
    "# Finally, it returns a string where each line is separated by a newline character and the words in each line are separated by a space character.\n",
    "\n",
    "def make_text(words):\n",
    "    line_dict = {} \n",
    "    words.sort(key=lambda w: w[0])\n",
    "    for w in words:  \n",
    "        y1 = round(w[3], 1)  \n",
    "        word = w[4] \n",
    "        line = line_dict.get(y1, [])  \n",
    "        line.append(word)  \n",
    "        line_dict[y1] = line  \n",
    "    lines = list(line_dict.items())\n",
    "    lines.sort()  \n",
    "    return \"n\".join([\" \".join(line[1]) for line in lines])"
   ]
  },
  {
   "cell_type": "code",
   "execution_count": 9,
   "metadata": {},
   "outputs": [
    {
     "name": "stdout",
     "output_type": "stream",
     "text": [
      "Rect(76.98999786376953, 155.42999267578125, 223.1999969482422, 172.25)\n",
      "['RAMON SANCHEZ GARAY']\n"
     ]
    }
   ],
   "source": [
    "# The Information of the words in first object or rectangle is stored in mywords\n",
    "# Then we apply the function to extract the words of the first rectangle and add to the variable first_annots\n",
    "\n",
    "rec = pageone.first_annot.rect\n",
    "first_annots = []\n",
    "mywords = [w for w in words if fitz.Rect(w[:4]) in rec]\n",
    "ann = make_text(mywords)\n",
    "first_annots.append(ann)\n",
    "\n",
    "print(rec)\n",
    "print(first_annots)"
   ]
  },
  {
   "cell_type": "code",
   "execution_count": 3,
   "metadata": {},
   "outputs": [
    {
     "name": "stdout",
     "output_type": "stream",
     "text": [
      "['RAMON SANCHEZ GARAY', 'SAGR431217XXX', '150203067000', 'Contado']\n"
     ]
    }
   ],
   "source": [
    "# With this script below we can get the text within all the rectagles of annotations and not only the first one.\n",
    "\n",
    "all_annots = []\n",
    "\n",
    "for annot in pageone.annots():\n",
    "    if annot!=None:\n",
    "        rec=annot.rect\n",
    "        mywords = [w for w in words if fitz.Rect(w[:4]) in rec]\n",
    "        ann= make_text(mywords)\n",
    "        all_annots.append(ann)\n",
    "\n",
    "print(all_annots)"
   ]
  },
  {
   "cell_type": "code",
   "execution_count": 4,
   "metadata": {},
   "outputs": [
    {
     "data": {
      "text/plain": [
       "{'NO.POLIZA': ['150203067000'],\n",
       " 'NOMBRE': ['RAMON SANCHEZ GARAY'],\n",
       " 'RFC': ['SAGR431217XXX'],\n",
       " 'FORMA PAGO': ['Contado']}"
      ]
     },
     "execution_count": 4,
     "metadata": {},
     "output_type": "execute_result"
    }
   ],
   "source": [
    "# We transform the annotations into a Dictionary\n",
    "\n",
    "pol_dic = {'NO.POLIZA': [all_annots[2]],\n",
    "           'NOMBRE': [all_annots[0]], \n",
    "           'RFC': [all_annots[1]], \n",
    "           'FORMA PAGO': [all_annots[3]]}\n",
    "\n",
    "pol_dic"
   ]
  },
  {
   "cell_type": "code",
   "execution_count": 5,
   "metadata": {},
   "outputs": [
    {
     "data": {
      "text/html": [
       "<div>\n",
       "<style scoped>\n",
       "    .dataframe tbody tr th:only-of-type {\n",
       "        vertical-align: middle;\n",
       "    }\n",
       "\n",
       "    .dataframe tbody tr th {\n",
       "        vertical-align: top;\n",
       "    }\n",
       "\n",
       "    .dataframe thead th {\n",
       "        text-align: right;\n",
       "    }\n",
       "</style>\n",
       "<table border=\"1\" class=\"dataframe\">\n",
       "  <thead>\n",
       "    <tr style=\"text-align: right;\">\n",
       "      <th></th>\n",
       "      <th>NO.POLIZA</th>\n",
       "      <th>NOMBRE</th>\n",
       "      <th>RFC</th>\n",
       "      <th>FORMA PAGO</th>\n",
       "    </tr>\n",
       "  </thead>\n",
       "  <tbody>\n",
       "    <tr>\n",
       "      <th>0</th>\n",
       "      <td>150203067000</td>\n",
       "      <td>RAMON SANCHEZ GARAY</td>\n",
       "      <td>SAGR431217XXX</td>\n",
       "      <td>Contado</td>\n",
       "    </tr>\n",
       "  </tbody>\n",
       "</table>\n",
       "</div>"
      ],
      "text/plain": [
       "      NO.POLIZA               NOMBRE            RFC FORMA PAGO\n",
       "0  150203067000  RAMON SANCHEZ GARAY  SAGR431217XXX    Contado"
      ]
     },
     "execution_count": 5,
     "metadata": {},
     "output_type": "execute_result"
    }
   ],
   "source": [
    "# Then we convert the created dictionary into a Pandas Dataframe\n",
    "\n",
    "pol_data = pd.DataFrame.from_dict(pol_dic)\n",
    "pol_data\n"
   ]
  },
  {
   "cell_type": "code",
   "execution_count": 6,
   "metadata": {},
   "outputs": [],
   "source": [
    "pol_data.to_excel('pol_final.xlsx', index=False)"
   ]
  }
 ],
 "metadata": {
  "kernelspec": {
   "display_name": "Python 3",
   "language": "python",
   "name": "python3"
  },
  "language_info": {
   "codemirror_mode": {
    "name": "ipython",
    "version": 3
   },
   "file_extension": ".py",
   "mimetype": "text/x-python",
   "name": "python",
   "nbconvert_exporter": "python",
   "pygments_lexer": "ipython3",
   "version": "3.8.10"
  },
  "orig_nbformat": 4
 },
 "nbformat": 4,
 "nbformat_minor": 2
}
