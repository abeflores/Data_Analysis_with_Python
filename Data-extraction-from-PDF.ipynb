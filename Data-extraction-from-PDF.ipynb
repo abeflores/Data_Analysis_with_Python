{
 "cells": [
  {
   "cell_type": "code",
   "execution_count": 8,
   "metadata": {},
   "outputs": [],
   "source": [
    "import pandas as pd\n",
    "import PyPDF2\n",
    "import fitz\n",
    "from io import StringIO"
   ]
  },
  {
   "cell_type": "code",
   "execution_count": 9,
   "metadata": {},
   "outputs": [],
   "source": [
    "pdf_file = open('PDF_sample.pdf', 'rb')\n",
    "pdf_reader = PyPDF2.PdfReader(pdf_file)"
   ]
  },
  {
   "cell_type": "code",
   "execution_count": 14,
   "metadata": {},
   "outputs": [],
   "source": [
    "text = ''\n",
    "for page in range(len(pdf_reader.pages)):\n",
    "    text += pdf_reader.pages[0].extract_text()"
   ]
  },
  {
   "cell_type": "code",
   "execution_count": 24,
   "metadata": {},
   "outputs": [],
   "source": [
    "df = pd.read_csv(StringIO(text), sep='\\t', header=None)"
   ]
  },
  {
   "cell_type": "code",
   "execution_count": 25,
   "metadata": {},
   "outputs": [],
   "source": [
    "df.to_excel('output.xlsx', index=False, header=False)"
   ]
  },
  {
   "cell_type": "code",
   "execution_count": 18,
   "metadata": {},
   "outputs": [],
   "source": [
    "doc = fitz.open('POL140298453100_annot.pdf')\n",
    "page = doc[6]\n",
    "words = page.get_text(\"words\")"
   ]
  },
  {
   "cell_type": "code",
   "execution_count": 19,
   "metadata": {},
   "outputs": [],
   "source": [
    "def make_text(words):\n",
    "    line_dict = {} \n",
    "    words.sort(key=lambda w: w[0])\n",
    "    for w in words:  \n",
    "        y1 = round(w[3], 1)  \n",
    "        word = w[4] \n",
    "        line = line_dict.get(y1, [])  \n",
    "        line.append(word)  \n",
    "        line_dict[y1] = line  \n",
    "    lines = list(line_dict.items())\n",
    "    lines.sort()  \n",
    "    return \"n\".join([\" \".join(line[1]) for line in lines])"
   ]
  },
  {
   "cell_type": "code",
   "execution_count": 20,
   "metadata": {},
   "outputs": [
    {
     "ename": "AttributeError",
     "evalue": "'NoneType' object has no attribute 'rect'",
     "output_type": "error",
     "traceback": [
      "\u001b[1;31m---------------------------------------------------------------------------\u001b[0m",
      "\u001b[1;31mAttributeError\u001b[0m                            Traceback (most recent call last)",
      "\u001b[1;32mc:\\Users\\abela\\Documents\\MACHINE_LEARNING_EDUCATION\\FREE CODE CAMP\\Data-Analysis-with-Python\\Data-extraction-from-PDF.ipynb Cell 9\u001b[0m in \u001b[0;36m<cell line: 2>\u001b[1;34m()\u001b[0m\n\u001b[0;32m      <a href='vscode-notebook-cell:/c%3A/Users/abela/Documents/MACHINE_LEARNING_EDUCATION/FREE%20CODE%20CAMP/Data-Analysis-with-Python/Data-extraction-from-PDF.ipynb#X11sZmlsZQ%3D%3D?line=0'>1</a>\u001b[0m first_annots \u001b[39m=\u001b[39m []\n\u001b[1;32m----> <a href='vscode-notebook-cell:/c%3A/Users/abela/Documents/MACHINE_LEARNING_EDUCATION/FREE%20CODE%20CAMP/Data-Analysis-with-Python/Data-extraction-from-PDF.ipynb#X11sZmlsZQ%3D%3D?line=1'>2</a>\u001b[0m rec \u001b[39m=\u001b[39m page\u001b[39m.\u001b[39;49mfirst_annot\u001b[39m.\u001b[39;49mrect\n\u001b[0;32m      <a href='vscode-notebook-cell:/c%3A/Users/abela/Documents/MACHINE_LEARNING_EDUCATION/FREE%20CODE%20CAMP/Data-Analysis-with-Python/Data-extraction-from-PDF.ipynb#X11sZmlsZQ%3D%3D?line=3'>4</a>\u001b[0m \u001b[39m#Information of words in first object is stored in mywords\u001b[39;00m\n\u001b[0;32m      <a href='vscode-notebook-cell:/c%3A/Users/abela/Documents/MACHINE_LEARNING_EDUCATION/FREE%20CODE%20CAMP/Data-Analysis-with-Python/Data-extraction-from-PDF.ipynb#X11sZmlsZQ%3D%3D?line=5'>6</a>\u001b[0m mywords \u001b[39m=\u001b[39m [w \u001b[39mfor\u001b[39;00m w \u001b[39min\u001b[39;00m words \u001b[39mif\u001b[39;00m fitz\u001b[39m.\u001b[39mRect(w[:\u001b[39m4\u001b[39m]) \u001b[39min\u001b[39;00m rec]\n",
      "\u001b[1;31mAttributeError\u001b[0m: 'NoneType' object has no attribute 'rect'"
     ]
    }
   ],
   "source": [
    "first_annots = []\n",
    "rec = page.first_annot.rect\n",
    "\n",
    "#Information of words in first object is stored in mywords\n",
    "\n",
    "mywords = [w for w in words if fitz.Rect(w[:4]) in rec]\n",
    "ann = make_text(mywords)\n",
    "first_annots.append(ann)"
   ]
  },
  {
   "cell_type": "code",
   "execution_count": 17,
   "metadata": {},
   "outputs": [
    {
     "name": "stdout",
     "output_type": "stream",
     "text": [
      "Rect(17.040000915527344, 116.469970703125, 290.4700012207031, 134.22998046875)\n",
      "['LETICIA HERMINIA MUÑOZ PEÑAnNombre:']\n"
     ]
    }
   ],
   "source": [
    "print(rec)\n",
    "print(first_annots)"
   ]
  }
 ],
 "metadata": {
  "kernelspec": {
   "display_name": "Python 3",
   "language": "python",
   "name": "python3"
  },
  "language_info": {
   "codemirror_mode": {
    "name": "ipython",
    "version": 3
   },
   "file_extension": ".py",
   "mimetype": "text/x-python",
   "name": "python",
   "nbconvert_exporter": "python",
   "pygments_lexer": "ipython3",
   "version": "3.8.10"
  },
  "orig_nbformat": 4
 },
 "nbformat": 4,
 "nbformat_minor": 2
}
