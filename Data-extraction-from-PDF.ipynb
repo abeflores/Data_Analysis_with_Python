{
 "cells": [
  {
   "cell_type": "code",
   "execution_count": 1,
   "metadata": {},
   "outputs": [],
   "source": [
    "import pandas as pd\n",
    "import PyPDF2\n",
    "import fitz\n",
    "from io import StringIO"
   ]
  },
  {
   "cell_type": "code",
   "execution_count": 8,
   "metadata": {},
   "outputs": [],
   "source": [
    "# This script is to read all characthers on a specific page on a PDF and Export into an Excel File\n",
    "\n",
    "pdf_file = open('POL140298453100_smallpdf.pdf', 'rb')\n",
    "pdf_reader = PyPDF2.PdfReader(pdf_file)\n",
    "\n",
    "text = ''\n",
    "for page in range(len(pdf_reader.pages)):\n",
    "    text += pdf_reader.pages[0].extract_text()\n",
    "\n",
    "df = pd.read_csv(StringIO(text), sep='\\t', header=None)\n",
    "\n",
    "df.to_excel('output.xlsx', index=False, header=False)"
   ]
  },
  {
   "cell_type": "code",
   "execution_count": 19,
   "metadata": {},
   "outputs": [
    {
     "ename": "TypeError",
     "evalue": "'IndirectObject' object is not subscriptable",
     "output_type": "error",
     "traceback": [
      "\u001b[1;31m---------------------------------------------------------------------------\u001b[0m",
      "\u001b[1;31mTypeError\u001b[0m                                 Traceback (most recent call last)",
      "\u001b[1;32mc:\\Users\\abela\\Documents\\MACHINE_LEARNING_EDUCATION\\FREE CODE CAMP\\Data-Analysis-with-Python\\Data-extraction-from-PDF.ipynb Cell 3\u001b[0m in \u001b[0;36m<cell line: 4>\u001b[1;34m()\u001b[0m\n\u001b[0;32m     <a href='vscode-notebook-cell:/c%3A/Users/abela/Documents/MACHINE_LEARNING_EDUCATION/FREE%20CODE%20CAMP/Data-Analysis-with-Python/Data-extraction-from-PDF.ipynb#X10sZmlsZQ%3D%3D?line=11'>12</a>\u001b[0m \u001b[39mif\u001b[39;00m \u001b[39m'\u001b[39m\u001b[39m/Annots\u001b[39m\u001b[39m'\u001b[39m \u001b[39min\u001b[39;00m page:\n\u001b[0;32m     <a href='vscode-notebook-cell:/c%3A/Users/abela/Documents/MACHINE_LEARNING_EDUCATION/FREE%20CODE%20CAMP/Data-Analysis-with-Python/Data-extraction-from-PDF.ipynb#X10sZmlsZQ%3D%3D?line=12'>13</a>\u001b[0m     \u001b[39m# Loop through the annotations\u001b[39;00m\n\u001b[0;32m     <a href='vscode-notebook-cell:/c%3A/Users/abela/Documents/MACHINE_LEARNING_EDUCATION/FREE%20CODE%20CAMP/Data-Analysis-with-Python/Data-extraction-from-PDF.ipynb#X10sZmlsZQ%3D%3D?line=13'>14</a>\u001b[0m     \u001b[39mfor\u001b[39;00m annotation \u001b[39min\u001b[39;00m page[\u001b[39m'\u001b[39m\u001b[39m/Annots\u001b[39m\u001b[39m'\u001b[39m]:\n\u001b[0;32m     <a href='vscode-notebook-cell:/c%3A/Users/abela/Documents/MACHINE_LEARNING_EDUCATION/FREE%20CODE%20CAMP/Data-Analysis-with-Python/Data-extraction-from-PDF.ipynb#X10sZmlsZQ%3D%3D?line=14'>15</a>\u001b[0m         \u001b[39m# Check if the annotation is a rectangle\u001b[39;00m\n\u001b[1;32m---> <a href='vscode-notebook-cell:/c%3A/Users/abela/Documents/MACHINE_LEARNING_EDUCATION/FREE%20CODE%20CAMP/Data-Analysis-with-Python/Data-extraction-from-PDF.ipynb#X10sZmlsZQ%3D%3D?line=15'>16</a>\u001b[0m         \u001b[39mif\u001b[39;00m annotation[\u001b[39m'\u001b[39;49m\u001b[39m/Subtype\u001b[39;49m\u001b[39m'\u001b[39;49m] \u001b[39m==\u001b[39m \u001b[39m'\u001b[39m\u001b[39m/Square\u001b[39m\u001b[39m'\u001b[39m:\n\u001b[0;32m     <a href='vscode-notebook-cell:/c%3A/Users/abela/Documents/MACHINE_LEARNING_EDUCATION/FREE%20CODE%20CAMP/Data-Analysis-with-Python/Data-extraction-from-PDF.ipynb#X10sZmlsZQ%3D%3D?line=16'>17</a>\u001b[0m             \u001b[39mprint\u001b[39m(\u001b[39m'\u001b[39m\u001b[39mFound an annotation rectangle!\u001b[39m\u001b[39m'\u001b[39m)\n\u001b[0;32m     <a href='vscode-notebook-cell:/c%3A/Users/abela/Documents/MACHINE_LEARNING_EDUCATION/FREE%20CODE%20CAMP/Data-Analysis-with-Python/Data-extraction-from-PDF.ipynb#X10sZmlsZQ%3D%3D?line=17'>18</a>\u001b[0m             \u001b[39mbreak\u001b[39;00m\n",
      "\u001b[1;31mTypeError\u001b[0m: 'IndirectObject' object is not subscriptable"
     ]
    }
   ],
   "source": [
    "import PyPDF2\n",
    "\n",
    "# Open the PDF file\n",
    "with open('POL140298453100_smallpdf.pdf', 'rb') as file:\n",
    "    # Create a PDF reader object\n",
    "    pdf_reader = PyPDF2.PdfReader(file)\n",
    "\n",
    "    # Get the first page of the PDF\n",
    "    page = pdf_reader.pages[0]\n",
    "\n",
    "    # Check if the page has any annotations\n",
    "    if '/Annots' in page:\n",
    "        # Loop through the annotations\n",
    "        for annotation in page['/Annots']:\n",
    "            # Check if the annotation is a rectangle\n",
    "            if annotation['/Subtype'] == '/Square':\n",
    "                print('Found an annotation rectangle!')\n",
    "                break\n",
    "    else:\n",
    "        print('No annotations found.')\n"
   ]
  },
  {
   "cell_type": "code",
   "execution_count": null,
   "metadata": {},
   "outputs": [],
   "source": [
    "doc = fitz.open('POL140298453100_smallpdf.pdf')\n",
    "pageone = doc[0]\n",
    "words = pageone.get_text(\"words\")"
   ]
  },
  {
   "cell_type": "code",
   "execution_count": null,
   "metadata": {},
   "outputs": [],
   "source": [
    "def make_text(words):\n",
    "    line_dict = {} \n",
    "    words.sort(key=lambda w: w[0])\n",
    "    for w in words:  \n",
    "        y1 = round(w[3], 1)  \n",
    "        word = w[4] \n",
    "        line = line_dict.get(y1, [])  \n",
    "        line.append(word)  \n",
    "        line_dict[y1] = line  \n",
    "    lines = list(line_dict.items())\n",
    "    lines.sort()  \n",
    "    return \"n\".join([\" \".join(line[1]) for line in lines])"
   ]
  },
  {
   "cell_type": "code",
   "execution_count": null,
   "metadata": {},
   "outputs": [],
   "source": [
    "first_annots = []\n",
    "rec = pageone.first_annot.rect\n",
    "\n",
    "#Information of words in first object is stored in mywords\n",
    "\n",
    "mywords = [w for w in words if fitz.Rect(w[:4]) in rec]\n",
    "ann = make_text(mywords)\n",
    "first_annots.append(ann)"
   ]
  },
  {
   "cell_type": "code",
   "execution_count": null,
   "metadata": {},
   "outputs": [
    {
     "name": "stdout",
     "output_type": "stream",
     "text": [
      "Rect(155.52999877929688, 216.6099853515625, 286.2099914550781, 237.91998291015625)\n",
      "['6862610414nTeléfono:']\n"
     ]
    }
   ],
   "source": [
    "print(rec)\n",
    "print(first_annots)"
   ]
  }
 ],
 "metadata": {
  "kernelspec": {
   "display_name": "Python 3",
   "language": "python",
   "name": "python3"
  },
  "language_info": {
   "codemirror_mode": {
    "name": "ipython",
    "version": 3
   },
   "file_extension": ".py",
   "mimetype": "text/x-python",
   "name": "python",
   "nbconvert_exporter": "python",
   "pygments_lexer": "ipython3",
   "version": "3.8.10"
  },
  "orig_nbformat": 4
 },
 "nbformat": 4,
 "nbformat_minor": 2
}
