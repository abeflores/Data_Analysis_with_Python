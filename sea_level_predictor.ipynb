{
 "cells": [
  {
   "cell_type": "code",
   "execution_count": null,
   "metadata": {},
   "outputs": [],
   "source": [
    "import pandas as pd\n",
    "import matplotlib.pyplot as plt\n",
    "from scipy.stats import linregress\n",
    "\n",
    "\n",
    "def draw_plot():\n",
    "    # Read data from file\n",
    "\n",
    "\n",
    "    # Create scatter plot\n",
    "\n",
    "\n",
    "    # Create first line of best fit\n",
    "\n",
    "\n",
    "    # Create second line of best fit\n",
    "\n",
    "\n",
    "    # Add labels and title\n",
    "\n",
    "    \n",
    "    # Save plot and return data for testing (DO NOT MODIFY)\n",
    "    plt.savefig('sea_level_plot.png')\n",
    "    return plt.gca()"
   ]
  }
 ],
 "metadata": {
  "language_info": {
   "name": "python"
  },
  "orig_nbformat": 4
 },
 "nbformat": 4,
 "nbformat_minor": 2
}
